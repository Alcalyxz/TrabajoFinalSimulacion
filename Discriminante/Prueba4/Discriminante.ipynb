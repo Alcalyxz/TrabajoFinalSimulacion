{
  "nbformat": 4,
  "nbformat_minor": 0,
  "metadata": {
    "colab": {
      "name": "Discriminante.ipynb",
      "provenance": []
    },
    "kernelspec": {
      "name": "python3",
      "display_name": "Python 3"
    }
  },
  "cells": [
    {
      "cell_type": "code",
      "metadata": {
        "id": "q1JzCvz7D81Q"
      },
      "source": [
        "from scipy.io import loadmat\r\n",
        "import pandas as pd\r\n",
        "import numpy as np\r\n",
        "from sklearn.preprocessing import StandardScaler\r\n",
        "\r\n",
        "scaler=StandardScaler()"
      ],
      "execution_count": 1,
      "outputs": []
    },
    {
      "cell_type": "code",
      "metadata": {
        "colab": {
          "base_uri": "https://localhost:8080/",
          "height": 308
        },
        "id": "vxUxpqXaJZVy",
        "outputId": "cb6ef59c-09f4-41de-ae4e-c0b61fad06ab"
      },
      "source": [
        "##---------------DATOS DE ENTRENAMIENTO -------------------------##\r\n",
        "##Cargar los datos con extención .mat\r\n",
        "x = loadmat('/DatosPrueba4.mat')\r\n",
        "\r\n",
        "##Traernos los datos del archivo .mat que nos interesan\r\n",
        "y = x['data_tr']\r\n",
        "\r\n",
        "##Convertir los datos en un array de Numpy\r\n",
        "z = np.array(y)\r\n",
        "\r\n",
        "##Convertir el Array en un DataFrame de Pandas\r\n",
        "df = pd.DataFrame(z)\r\n",
        "\r\n",
        "##Contar el numero de datos nulos del dataFrame\r\n",
        "np.count_nonzero(pd.isnull(df) == True)\r\n",
        "\r\n",
        "df.columns = ['1','2','3','4','5','6','7','8','9','10','11','12','13','14','15','16','17','18','Label']\r\n",
        "df.sample(8)"
      ],
      "execution_count": 2,
      "outputs": [
        {
          "output_type": "execute_result",
          "data": {
            "text/html": [
              "<div>\n",
              "<style scoped>\n",
              "    .dataframe tbody tr th:only-of-type {\n",
              "        vertical-align: middle;\n",
              "    }\n",
              "\n",
              "    .dataframe tbody tr th {\n",
              "        vertical-align: top;\n",
              "    }\n",
              "\n",
              "    .dataframe thead th {\n",
              "        text-align: right;\n",
              "    }\n",
              "</style>\n",
              "<table border=\"1\" class=\"dataframe\">\n",
              "  <thead>\n",
              "    <tr style=\"text-align: right;\">\n",
              "      <th></th>\n",
              "      <th>1</th>\n",
              "      <th>2</th>\n",
              "      <th>3</th>\n",
              "      <th>4</th>\n",
              "      <th>5</th>\n",
              "      <th>6</th>\n",
              "      <th>7</th>\n",
              "      <th>8</th>\n",
              "      <th>9</th>\n",
              "      <th>10</th>\n",
              "      <th>11</th>\n",
              "      <th>12</th>\n",
              "      <th>13</th>\n",
              "      <th>14</th>\n",
              "      <th>15</th>\n",
              "      <th>16</th>\n",
              "      <th>17</th>\n",
              "      <th>18</th>\n",
              "      <th>Label</th>\n",
              "    </tr>\n",
              "  </thead>\n",
              "  <tbody>\n",
              "    <tr>\n",
              "      <th>603</th>\n",
              "      <td>0.000317</td>\n",
              "      <td>0.000685</td>\n",
              "      <td>0.000130</td>\n",
              "      <td>0.000070</td>\n",
              "      <td>3.302963</td>\n",
              "      <td>9.636801</td>\n",
              "      <td>0.002996</td>\n",
              "      <td>0.000000</td>\n",
              "      <td>0.000752</td>\n",
              "      <td>86.32</td>\n",
              "      <td>35.630789</td>\n",
              "      <td>62.0</td>\n",
              "      <td>0.0000</td>\n",
              "      <td>0.760196</td>\n",
              "      <td>-1.436164</td>\n",
              "      <td>138.0</td>\n",
              "      <td>62.0</td>\n",
              "      <td>93.316665</td>\n",
              "      <td>1.0</td>\n",
              "    </tr>\n",
              "    <tr>\n",
              "      <th>108</th>\n",
              "      <td>0.001696</td>\n",
              "      <td>0.002378</td>\n",
              "      <td>0.000787</td>\n",
              "      <td>0.000162</td>\n",
              "      <td>3.586914</td>\n",
              "      <td>14.117009</td>\n",
              "      <td>0.015449</td>\n",
              "      <td>0.000166</td>\n",
              "      <td>0.002911</td>\n",
              "      <td>1477.83</td>\n",
              "      <td>327.078684</td>\n",
              "      <td>1596.0</td>\n",
              "      <td>0.0000</td>\n",
              "      <td>-2.889214</td>\n",
              "      <td>6.724629</td>\n",
              "      <td>1596.0</td>\n",
              "      <td>345.0</td>\n",
              "      <td>1513.238967</td>\n",
              "      <td>0.0</td>\n",
              "    </tr>\n",
              "    <tr>\n",
              "      <th>164</th>\n",
              "      <td>0.000198</td>\n",
              "      <td>0.000339</td>\n",
              "      <td>0.000006</td>\n",
              "      <td>0.000008</td>\n",
              "      <td>1.832635</td>\n",
              "      <td>1.752867</td>\n",
              "      <td>0.001083</td>\n",
              "      <td>0.000000</td>\n",
              "      <td>0.000391</td>\n",
              "      <td>114.41</td>\n",
              "      <td>38.153093</td>\n",
              "      <td>138.0</td>\n",
              "      <td>0.0000</td>\n",
              "      <td>-0.605555</td>\n",
              "      <td>-1.557830</td>\n",
              "      <td>153.0</td>\n",
              "      <td>62.0</td>\n",
              "      <td>120.543561</td>\n",
              "      <td>1.0</td>\n",
              "    </tr>\n",
              "    <tr>\n",
              "      <th>777</th>\n",
              "      <td>0.000555</td>\n",
              "      <td>0.000973</td>\n",
              "      <td>0.000153</td>\n",
              "      <td>0.000108</td>\n",
              "      <td>1.803103</td>\n",
              "      <td>1.319906</td>\n",
              "      <td>0.002903</td>\n",
              "      <td>0.000005</td>\n",
              "      <td>0.001116</td>\n",
              "      <td>83.28</td>\n",
              "      <td>34.295825</td>\n",
              "      <td>62.0</td>\n",
              "      <td>0.0000</td>\n",
              "      <td>0.965295</td>\n",
              "      <td>-1.078693</td>\n",
              "      <td>138.0</td>\n",
              "      <td>62.0</td>\n",
              "      <td>90.000000</td>\n",
              "      <td>1.0</td>\n",
              "    </tr>\n",
              "    <tr>\n",
              "      <th>261</th>\n",
              "      <td>0.236044</td>\n",
              "      <td>0.974143</td>\n",
              "      <td>0.000440</td>\n",
              "      <td>0.000404</td>\n",
              "      <td>6.170270</td>\n",
              "      <td>42.276939</td>\n",
              "      <td>8.034434</td>\n",
              "      <td>0.000113</td>\n",
              "      <td>0.997588</td>\n",
              "      <td>1041.43</td>\n",
              "      <td>515.098427</td>\n",
              "      <td>1476.0</td>\n",
              "      <td>0.0000</td>\n",
              "      <td>-0.532312</td>\n",
              "      <td>-1.491937</td>\n",
              "      <td>1476.0</td>\n",
              "      <td>222.0</td>\n",
              "      <td>1160.710804</td>\n",
              "      <td>0.0</td>\n",
              "    </tr>\n",
              "    <tr>\n",
              "      <th>690</th>\n",
              "      <td>0.122675</td>\n",
              "      <td>0.541821</td>\n",
              "      <td>0.000468</td>\n",
              "      <td>0.000512</td>\n",
              "      <td>7.055313</td>\n",
              "      <td>56.277475</td>\n",
              "      <td>4.858796</td>\n",
              "      <td>0.000101</td>\n",
              "      <td>0.552887</td>\n",
              "      <td>792.84</td>\n",
              "      <td>673.539958</td>\n",
              "      <td>364.0</td>\n",
              "      <td>201.6336</td>\n",
              "      <td>0.449435</td>\n",
              "      <td>-1.779006</td>\n",
              "      <td>1646.0</td>\n",
              "      <td>228.0</td>\n",
              "      <td>1038.130425</td>\n",
              "      <td>0.0</td>\n",
              "    </tr>\n",
              "    <tr>\n",
              "      <th>676</th>\n",
              "      <td>0.000189</td>\n",
              "      <td>0.000376</td>\n",
              "      <td>0.000010</td>\n",
              "      <td>0.000010</td>\n",
              "      <td>2.436328</td>\n",
              "      <td>4.366542</td>\n",
              "      <td>0.001328</td>\n",
              "      <td>0.000003</td>\n",
              "      <td>0.000419</td>\n",
              "      <td>111.96</td>\n",
              "      <td>40.782230</td>\n",
              "      <td>138.0</td>\n",
              "      <td>29.6520</td>\n",
              "      <td>-0.346082</td>\n",
              "      <td>-1.757802</td>\n",
              "      <td>158.0</td>\n",
              "      <td>62.0</td>\n",
              "      <td>119.086523</td>\n",
              "      <td>1.0</td>\n",
              "    </tr>\n",
              "    <tr>\n",
              "      <th>254</th>\n",
              "      <td>0.047671</td>\n",
              "      <td>0.356517</td>\n",
              "      <td>0.000980</td>\n",
              "      <td>0.000013</td>\n",
              "      <td>8.955589</td>\n",
              "      <td>82.313842</td>\n",
              "      <td>3.472160</td>\n",
              "      <td>0.000143</td>\n",
              "      <td>0.357919</td>\n",
              "      <td>1299.22</td>\n",
              "      <td>357.642013</td>\n",
              "      <td>1428.0</td>\n",
              "      <td>0.0000</td>\n",
              "      <td>-2.454662</td>\n",
              "      <td>4.263882</td>\n",
              "      <td>1428.0</td>\n",
              "      <td>222.0</td>\n",
              "      <td>1347.071394</td>\n",
              "      <td>0.0</td>\n",
              "    </tr>\n",
              "  </tbody>\n",
              "</table>\n",
              "</div>"
            ],
            "text/plain": [
              "            1         2         3         4  ...      16     17           18  Label\n",
              "603  0.000317  0.000685  0.000130  0.000070  ...   138.0   62.0    93.316665    1.0\n",
              "108  0.001696  0.002378  0.000787  0.000162  ...  1596.0  345.0  1513.238967    0.0\n",
              "164  0.000198  0.000339  0.000006  0.000008  ...   153.0   62.0   120.543561    1.0\n",
              "777  0.000555  0.000973  0.000153  0.000108  ...   138.0   62.0    90.000000    1.0\n",
              "261  0.236044  0.974143  0.000440  0.000404  ...  1476.0  222.0  1160.710804    0.0\n",
              "690  0.122675  0.541821  0.000468  0.000512  ...  1646.0  228.0  1038.130425    0.0\n",
              "676  0.000189  0.000376  0.000010  0.000010  ...   158.0   62.0   119.086523    1.0\n",
              "254  0.047671  0.356517  0.000980  0.000013  ...  1428.0  222.0  1347.071394    0.0\n",
              "\n",
              "[8 rows x 19 columns]"
            ]
          },
          "metadata": {
            "tags": []
          },
          "execution_count": 2
        }
      ]
    },
    {
      "cell_type": "code",
      "metadata": {
        "id": "hkcBfCdEJnHa"
      },
      "source": [
        "YEntrenamiento = df['Label']\r\n",
        "XEntrenamiento = scaler.fit_transform(df.drop(['Label'],axis=1))"
      ],
      "execution_count": 3,
      "outputs": []
    },
    {
      "cell_type": "code",
      "metadata": {
        "colab": {
          "base_uri": "https://localhost:8080/"
        },
        "id": "4Jnw3Z87J3Dm",
        "outputId": "29b46c7a-323a-46a1-f524-e7d67f71e263"
      },
      "source": [
        "!pip install scikit-plot"
      ],
      "execution_count": 4,
      "outputs": [
        {
          "output_type": "stream",
          "text": [
            "Collecting scikit-plot\n",
            "  Downloading https://files.pythonhosted.org/packages/7c/47/32520e259340c140a4ad27c1b97050dd3254fdc517b1d59974d47037510e/scikit_plot-0.3.7-py3-none-any.whl\n",
            "Requirement already satisfied: joblib>=0.10 in /usr/local/lib/python3.6/dist-packages (from scikit-plot) (1.0.0)\n",
            "Requirement already satisfied: matplotlib>=1.4.0 in /usr/local/lib/python3.6/dist-packages (from scikit-plot) (3.2.2)\n",
            "Requirement already satisfied: scipy>=0.9 in /usr/local/lib/python3.6/dist-packages (from scikit-plot) (1.4.1)\n",
            "Requirement already satisfied: scikit-learn>=0.18 in /usr/local/lib/python3.6/dist-packages (from scikit-plot) (0.22.2.post1)\n",
            "Requirement already satisfied: cycler>=0.10 in /usr/local/lib/python3.6/dist-packages (from matplotlib>=1.4.0->scikit-plot) (0.10.0)\n",
            "Requirement already satisfied: numpy>=1.11 in /usr/local/lib/python3.6/dist-packages (from matplotlib>=1.4.0->scikit-plot) (1.19.5)\n",
            "Requirement already satisfied: kiwisolver>=1.0.1 in /usr/local/lib/python3.6/dist-packages (from matplotlib>=1.4.0->scikit-plot) (1.3.1)\n",
            "Requirement already satisfied: pyparsing!=2.0.4,!=2.1.2,!=2.1.6,>=2.0.1 in /usr/local/lib/python3.6/dist-packages (from matplotlib>=1.4.0->scikit-plot) (2.4.7)\n",
            "Requirement already satisfied: python-dateutil>=2.1 in /usr/local/lib/python3.6/dist-packages (from matplotlib>=1.4.0->scikit-plot) (2.8.1)\n",
            "Requirement already satisfied: six in /usr/local/lib/python3.6/dist-packages (from cycler>=0.10->matplotlib>=1.4.0->scikit-plot) (1.15.0)\n",
            "Installing collected packages: scikit-plot\n",
            "Successfully installed scikit-plot-0.3.7\n"
          ],
          "name": "stdout"
        }
      ]
    },
    {
      "cell_type": "code",
      "metadata": {
        "id": "VACBYss3JuUe"
      },
      "source": [
        "from sklearn.metrics import balanced_accuracy_score\r\n",
        "from sklearn.metrics import roc_auc_score\r\n",
        "import scikitplot as skplt \r\n",
        "from sklearn.metrics import classification_report\r\n",
        "from imblearn.over_sampling import SMOTE \r\n",
        "from sklearn.model_selection import StratifiedKFold\r\n",
        "from sklearn.discriminant_analysis import QuadraticDiscriminantAnalysis"
      ],
      "execution_count": 12,
      "outputs": []
    },
    {
      "cell_type": "code",
      "metadata": {
        "id": "HZeOxtLuJ2sF"
      },
      "source": [
        "def experimentar(X,Y,oversampling=False):\r\n",
        "    Folds = 10\r\n",
        "    skf = StratifiedKFold(n_splits=Folds)\r\n",
        "    resultados = pd.DataFrame()\r\n",
        "    idx = 0\r\n",
        "    Acc = []\r\n",
        "    Auc= []\r\n",
        "\r\n",
        "    for j, (train, test) in enumerate(skf.split(X, Y)):\r\n",
        "        Xtrain= X[train,:]\r\n",
        "        Ytrain = Y[train]\r\n",
        "        Xtest = X[test, :]\r\n",
        "        Ytest = Y[test]\r\n",
        "        scaler = StandardScaler().fit(X= Xtrain)       \r\n",
        "        Xtrain = scaler.transform(Xtrain)\r\n",
        "        Xtest = scaler.transform(Xtest)\r\n",
        "        model = QuadraticDiscriminantAnalysis(priors=None, reg_param=0.7, store_covariance=True,\r\n",
        "                              tol=0.0001)\r\n",
        "        if oversampling:\r\n",
        "            sm = SMOTE(random_state=42)\r\n",
        "            Xtrain, Ytrain = sm.fit_resample(Xtrain, Ytrain)\r\n",
        "            \r\n",
        "        model.fit(X=Xtrain, y=Ytrain)\r\n",
        "        Yest = model.predict_proba(Xtest)\r\n",
        "        \r\n",
        "        Acc.append(balanced_accuracy_score(Ytest,np.argmax(Yest, 1)))\r\n",
        "        aux=roc_auc_score(Ytest,Yest[:,1])\r\n",
        "        Auc.append(aux)\r\n",
        "    skplt.metrics.plot_confusion_matrix(Ytest,np.argmax(Yest, 1),normalize=True) #matriz de confusión\r\n",
        "    skplt.metrics.plot_roc(Ytest,Yest)\r\n",
        "    print(classification_report(Ytest,np.argmax(Yest, 1)))\r\n",
        "    \r\n",
        "    resultados.loc[idx,'AUC medio'] = np.mean(Auc)\r\n",
        "    resultados.loc[idx,'AUC intervalo de confianza'] = np.std(Auc)\r\n",
        "    resultados.loc[idx,'Accuracy medio'] = np.mean(Acc)\r\n",
        "    resultados.loc[idx,'Accuracy intervalo de confianza'] = np.std(Acc)\r\n",
        "    return (resultados)"
      ],
      "execution_count": 13,
      "outputs": []
    },
    {
      "cell_type": "code",
      "metadata": {
        "colab": {
          "base_uri": "https://localhost:8080/",
          "height": 1000
        },
        "id": "fiMT22XcKAM_",
        "outputId": "098023a2-da78-4b99-bb80-71d6797d62b6"
      },
      "source": [
        "experimentar(XEntrenamiento,YEntrenamiento,False)"
      ],
      "execution_count": 14,
      "outputs": [
        {
          "output_type": "stream",
          "text": [
            "              precision    recall  f1-score   support\n",
            "\n",
            "         0.0       1.00      0.93      0.96        58\n",
            "         1.0       0.92      1.00      0.96        48\n",
            "\n",
            "    accuracy                           0.96       106\n",
            "   macro avg       0.96      0.97      0.96       106\n",
            "weighted avg       0.97      0.96      0.96       106\n",
            "\n"
          ],
          "name": "stdout"
        },
        {
          "output_type": "stream",
          "text": [
            "/usr/local/lib/python3.6/dist-packages/sklearn/discriminant_analysis.py:691: UserWarning: Variables are collinear\n",
            "  warnings.warn(\"Variables are collinear\")\n",
            "/usr/local/lib/python3.6/dist-packages/sklearn/discriminant_analysis.py:691: UserWarning: Variables are collinear\n",
            "  warnings.warn(\"Variables are collinear\")\n",
            "/usr/local/lib/python3.6/dist-packages/sklearn/discriminant_analysis.py:691: UserWarning: Variables are collinear\n",
            "  warnings.warn(\"Variables are collinear\")\n",
            "/usr/local/lib/python3.6/dist-packages/sklearn/discriminant_analysis.py:691: UserWarning: Variables are collinear\n",
            "  warnings.warn(\"Variables are collinear\")\n",
            "/usr/local/lib/python3.6/dist-packages/sklearn/discriminant_analysis.py:691: UserWarning: Variables are collinear\n",
            "  warnings.warn(\"Variables are collinear\")\n",
            "/usr/local/lib/python3.6/dist-packages/sklearn/discriminant_analysis.py:691: UserWarning: Variables are collinear\n",
            "  warnings.warn(\"Variables are collinear\")\n",
            "/usr/local/lib/python3.6/dist-packages/sklearn/discriminant_analysis.py:691: UserWarning: Variables are collinear\n",
            "  warnings.warn(\"Variables are collinear\")\n",
            "/usr/local/lib/python3.6/dist-packages/sklearn/discriminant_analysis.py:691: UserWarning: Variables are collinear\n",
            "  warnings.warn(\"Variables are collinear\")\n",
            "/usr/local/lib/python3.6/dist-packages/sklearn/discriminant_analysis.py:691: UserWarning: Variables are collinear\n",
            "  warnings.warn(\"Variables are collinear\")\n",
            "/usr/local/lib/python3.6/dist-packages/sklearn/discriminant_analysis.py:691: UserWarning: Variables are collinear\n",
            "  warnings.warn(\"Variables are collinear\")\n"
          ],
          "name": "stderr"
        },
        {
          "output_type": "execute_result",
          "data": {
            "text/html": [
              "<div>\n",
              "<style scoped>\n",
              "    .dataframe tbody tr th:only-of-type {\n",
              "        vertical-align: middle;\n",
              "    }\n",
              "\n",
              "    .dataframe tbody tr th {\n",
              "        vertical-align: top;\n",
              "    }\n",
              "\n",
              "    .dataframe thead th {\n",
              "        text-align: right;\n",
              "    }\n",
              "</style>\n",
              "<table border=\"1\" class=\"dataframe\">\n",
              "  <thead>\n",
              "    <tr style=\"text-align: right;\">\n",
              "      <th></th>\n",
              "      <th>AUC medio</th>\n",
              "      <th>AUC intervalo de confianza</th>\n",
              "      <th>Accuracy medio</th>\n",
              "      <th>Accuracy intervalo de confianza</th>\n",
              "    </tr>\n",
              "  </thead>\n",
              "  <tbody>\n",
              "    <tr>\n",
              "      <th>0</th>\n",
              "      <td>0.999472</td>\n",
              "      <td>0.001583</td>\n",
              "      <td>0.959037</td>\n",
              "      <td>0.018812</td>\n",
              "    </tr>\n",
              "  </tbody>\n",
              "</table>\n",
              "</div>"
            ],
            "text/plain": [
              "   AUC medio  ...  Accuracy intervalo de confianza\n",
              "0   0.999472  ...                         0.018812\n",
              "\n",
              "[1 rows x 4 columns]"
            ]
          },
          "metadata": {
            "tags": []
          },
          "execution_count": 14
        },
        {
          "output_type": "display_data",
          "data": {
            "image/png": "[encoded data removed]",
            "text/plain": [
              "<Figure size 432x288 with 2 Axes>"
            ]
          },
          "metadata": {
            "tags": [],
            "needs_background": "light"
          }
        },
        {
          "output_type": "display_data",
          "data": {
            "image/png": "[encoded data removed]",
            "text/plain": [
              "<Figure size 432x288 with 1 Axes>"
            ]
          },
          "metadata": {
            "tags": [],
            "needs_background": "light"
          }
        }
      ]
    }
  ]
}